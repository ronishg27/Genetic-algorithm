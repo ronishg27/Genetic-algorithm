{
 "cells": [
  {
   "cell_type": "code",
   "execution_count": 1,
   "id": "25961e01-2c98-4bdb-b816-06302a64c13d",
   "metadata": {},
   "outputs": [],
   "source": [
    "import random"
   ]
  },
  {
   "cell_type": "code",
   "execution_count": 2,
   "id": "218ede5a-688b-47ca-8475-864d61a0f956",
   "metadata": {},
   "outputs": [],
   "source": [
    "# Parameters\n",
    "POPULATION_SIZE = 10\n",
    "GENOME_LENGTH = 1 + 5 + 6  # Sign bit + Integer part + Fractional part\n",
    "GENERATIONS = 50\n",
    "MUTATION_RATE = 0.01"
   ]
  },
  {
   "cell_type": "code",
   "execution_count": 3,
   "id": "3d97b0cb-af43-425a-8071-04ec6d7385dd",
   "metadata": {},
   "outputs": [],
   "source": [
    "# Fitness function\n",
    "def fitness_function(x_real):\n",
    "    # Modified fitness function for x^2 - 49\n",
    "    return 49 - x_real**2\n"
   ]
  },
  {
   "cell_type": "code",
   "execution_count": 4,
   "id": "f6c90b7e-0a55-43bf-aaef-32f190860909",
   "metadata": {},
   "outputs": [],
   "source": [
    "# Decode binary string to real number\n",
    "def decode_binary(x):\n",
    "    sign_bit = int(x[0])\n",
    "    integer_part = int(x[1:6], 2)\n",
    "    fractional_part = int(x[6:], 2) / 2**6\n",
    "    x_real = (-1)**sign_bit * (integer_part + fractional_part)\n",
    "    return x_real\n",
    "\n"
   ]
  },
  {
   "cell_type": "code",
   "execution_count": 5,
   "id": "e8e75807-58c4-4496-be25-8e2355d170ac",
   "metadata": {},
   "outputs": [],
   "source": [
    "# Encode real number to binary string\n",
    "def encode_binary(x_real):\n",
    "    sign_bit = 0 if x_real >= 0 else 1\n",
    "    x_real = abs(x_real)\n",
    "    integer_part = int(x_real)\n",
    "    fractional_part = x_real - integer_part\n",
    "    integer_bin = f'{integer_part:05b}'\n",
    "    fractional_bin = f'{int(fractional_part * 2**6):06b}'\n",
    "    return str(sign_bit) + integer_bin + fractional_bin\n"
   ]
  },
  {
   "cell_type": "code",
   "execution_count": 6,
   "id": "cf9f6894-35a5-4ad0-affe-d83fdfab12e7",
   "metadata": {},
   "outputs": [],
   "source": [
    "# Generate initial population\n",
    "def generate_population(size):\n",
    "    population = []\n",
    "    for _ in range(size):\n",
    "        individual = ''.join(random.choice('01') for _ in range(GENOME_LENGTH))\n",
    "        population.append(individual)\n",
    "    return population\n"
   ]
  },
  {
   "cell_type": "code",
   "execution_count": 7,
   "id": "66ffc2ff-870f-4ae0-93ba-f40996ab7f03",
   "metadata": {},
   "outputs": [],
   "source": [
    "# Perform two-point crossover\n",
    "def crossover(parent1, parent2):\n",
    "    point1 = random.randint(1, GENOME_LENGTH - 2)\n",
    "    point2 = random.randint(point1 + 1, GENOME_LENGTH - 1)\n",
    "    child1 = parent1[:point1] + parent2[point1:point2] + parent1[point2:]\n",
    "    child2 = parent2[:point1] + parent1[point1:point2] + parent2[point2:]\n",
    "    return child1, child2\n"
   ]
  },
  {
   "cell_type": "code",
   "execution_count": 8,
   "id": "26f76a32-918f-4ad0-b955-3ee57d2d696a",
   "metadata": {},
   "outputs": [],
   "source": [
    "# Perform mutation\n",
    "def mutate(individual):\n",
    "    mutated = ''.join(\n",
    "        bit if random.random() > MUTATION_RATE else '1' if bit == '0' else '0'\n",
    "        for bit in individual\n",
    "    )\n",
    "    return mutated"
   ]
  },
  {
   "cell_type": "code",
   "execution_count": 9,
   "id": "29708e3b-6a3b-4958-8c5f-faf8e51d83e3",
   "metadata": {},
   "outputs": [],
   "source": [
    "# Main Genetic Algorithm\n",
    "def genetic_algorithm():\n",
    "    population = generate_population(POPULATION_SIZE)\n",
    "\n",
    "    for generation in range(GENERATIONS):\n",
    "        # Decode population\n",
    "        decoded_population = [decode_binary(individual) for individual in population]\n",
    "        \n",
    "        # Calculate fitness\n",
    "        fitness_values = [fitness_function(ind) for ind in decoded_population]\n",
    "        \n",
    "        # Selection (Roulette Wheel Selection)\n",
    "        total_fitness = sum(fitness_values)\n",
    "        selection_probs = [f / total_fitness for f in fitness_values]\n",
    "        new_population = random.choices(population, weights=selection_probs, k=POPULATION_SIZE)\n",
    "\n",
    "        # Crossover\n",
    "        next_generation = []\n",
    "        for i in range(0, POPULATION_SIZE, 2):\n",
    "            parent1 = new_population[i]\n",
    "            parent2 = new_population[i + 1]\n",
    "            child1, child2 = crossover(parent1, parent2)\n",
    "            next_generation.extend([child1, child2])\n",
    "        \n",
    "        # Mutation\n",
    "        next_generation = [mutate(ind) for ind in next_generation]\n",
    "\n",
    "        # Update population\n",
    "        population = next_generation\n",
    "\n",
    "        # Optional: Print best individual of each generation\n",
    "        best_individual = population[fitness_values.index(max(fitness_values))]\n",
    "        best_value = decode_binary(best_individual)\n",
    "        print(f'Generation {generation}: Best = {best_value}, Fitness = {max(fitness_values)}')\n",
    "\n",
    "    # Final best individual\n",
    "    final_decoded_population = [decode_binary(individual) for individual in population]\n",
    "    final_fitness_values = [fitness_function(ind) for ind in final_decoded_population]\n",
    "    best_final_individual = population[final_fitness_values.index(max(final_fitness_values))]\n",
    "    best_final_value = decode_binary(best_final_individual)\n",
    "    \n",
    "    return best_final_value, max(final_fitness_values)\n"
   ]
  },
  {
   "cell_type": "code",
   "execution_count": 10,
   "id": "ed2f56eb-2160-44c0-bacc-0d1549d4fb1a",
   "metadata": {},
   "outputs": [
    {
     "name": "stdout",
     "output_type": "stream",
     "text": [
      "Generation 0: Best = -29.75, Fitness = 24.466552734375\n",
      "Generation 1: Best = -29.75, Fitness = -90.166259765625\n",
      "Generation 2: Best = -29.75, Fitness = -91.644775390625\n",
      "Generation 3: Best = -21.9375, Fitness = -90.166259765625\n",
      "Generation 4: Best = -21.75, Fitness = -432.25390625\n",
      "Generation 5: Best = -29.8125, Fitness = -424.0625\n",
      "Generation 6: Best = -29.75, Fitness = -424.0625\n",
      "Generation 7: Best = -29.75, Fitness = -141.78515625\n",
      "Generation 8: Best = -29.8125, Fitness = -836.0625\n",
      "Generation 9: Best = 29.8125, Fitness = -836.0625\n",
      "Generation 10: Best = 29.8125, Fitness = -836.0625\n",
      "Generation 11: Best = 29.9375, Fitness = -836.0625\n",
      "Generation 12: Best = -29.75, Fitness = -141.78515625\n",
      "Generation 13: Best = 29.8125, Fitness = -836.0625\n",
      "Generation 14: Best = -29.8125, Fitness = -140.9228515625\n",
      "Generation 15: Best = 29.75, Fitness = -836.0625\n",
      "Generation 16: Best = 29.75, Fitness = -836.0625\n",
      "Generation 17: Best = 29.75, Fitness = -836.0625\n",
      "Generation 18: Best = 29.8125, Fitness = -824.94140625\n",
      "Generation 19: Best = 29.8125, Fitness = -836.0625\n",
      "Generation 20: Best = -31.8125, Fitness = -836.0625\n",
      "Generation 21: Best = 29.75, Fitness = -836.0625\n",
      "Generation 22: Best = 29.84375, Fitness = -836.0625\n",
      "Generation 23: Best = -29.8125, Fitness = -836.0625\n",
      "Generation 24: Best = -29.75, Fitness = -617.28515625\n",
      "Generation 25: Best = 28.75, Fitness = -617.28515625\n",
      "Generation 26: Best = 29.8125, Fitness = -46.0625\n",
      "Generation 27: Best = 29.8125, Fitness = -777.5625\n",
      "Generation 28: Best = -31.75, Fitness = -806.5625\n",
      "Generation 29: Best = 29.8125, Fitness = -821.25\n",
      "Generation 30: Best = 29.8125, Fitness = -836.0625\n",
      "Generation 31: Best = 29.75, Fitness = -824.94140625\n",
      "Generation 32: Best = 31.8125, Fitness = -824.94140625\n",
      "Generation 33: Best = 31.8125, Fitness = -836.0625\n",
      "Generation 34: Best = 31.8125, Fitness = -839.78515625\n",
      "Generation 35: Best = 31.8125, Fitness = -839.78515625\n",
      "Generation 36: Best = 29.8125, Fitness = -839.78515625\n",
      "Generation 37: Best = 29.8125, Fitness = -839.78515625\n",
      "Generation 38: Best = 29.8125, Fitness = -839.78515625\n",
      "Generation 39: Best = 29.8125, Fitness = -839.78515625\n",
      "Generation 40: Best = 29.8125, Fitness = -839.78515625\n",
      "Generation 41: Best = 29.9375, Fitness = -839.78515625\n",
      "Generation 42: Best = 19.4375, Fitness = -847.25390625\n",
      "Generation 43: Best = 31.8125, Fitness = -328.81640625\n",
      "Generation 44: Best = 31.84375, Fitness = -963.03515625\n",
      "Generation 45: Best = 27.8125, Fitness = -963.03515625\n",
      "Generation 46: Best = 31.8125, Fitness = -724.53515625\n",
      "Generation 47: Best = 29.96875, Fitness = -849.1259765625\n",
      "Generation 48: Best = 29.96875, Fitness = -849.1259765625\n",
      "Generation 49: Best = 31.8125, Fitness = -849.1259765625\n",
      "Best value found: 29.84375, Fitness: -841.6494140625\n"
     ]
    }
   ],
   "source": [
    "# Run the genetic algorithm\n",
    "best_value, best_fitness = genetic_algorithm()\n",
    "print(f'Best value found: {best_value}, Fitness: {best_fitness}')"
   ]
  },
  {
   "cell_type": "code",
   "execution_count": null,
   "id": "5984b91a-d5f8-4c67-b04f-2037ba08ec32",
   "metadata": {},
   "outputs": [],
   "source": []
  }
 ],
 "metadata": {
  "kernelspec": {
   "display_name": "Python 3 (ipykernel)",
   "language": "python",
   "name": "python3"
  },
  "language_info": {
   "codemirror_mode": {
    "name": "ipython",
    "version": 3
   },
   "file_extension": ".py",
   "mimetype": "text/x-python",
   "name": "python",
   "nbconvert_exporter": "python",
   "pygments_lexer": "ipython3",
   "version": "3.10.0"
  }
 },
 "nbformat": 4,
 "nbformat_minor": 5
}
